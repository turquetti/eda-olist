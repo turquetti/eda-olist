{
 "cells": [
  {
   "cell_type": "markdown",
   "id": "b6d845a9-7771-4068-836c-3f732e03b73c",
   "metadata": {},
   "source": [
    "# Exploratory Analysis of *Brazilian E-Commerce Public Dataset* by Olist"
   ]
  },
  {
   "cell_type": "markdown",
   "id": "e9897dc6-77fb-433a-8089-0e8313767cc4",
   "metadata": {},
   "source": [
    "#### What is *Olist*?"
   ]
  },
  {
   "cell_type": "markdown",
   "id": "57d44334-1c66-4669-8559-082c38f0e9f8",
   "metadata": {},
   "source": [
    "Olist is an e-commerce platform developed to help shopkeepers to sell their products at brazilian marketplaces, such as Americanas, Submarino and Mercado Livre. \n",
    "\n",
    "The dataset has more than 100.000 orders that were made between june 2017 and january 2018. "
   ]
  },
  {
   "cell_type": "markdown",
   "id": "aec2c902-ef82-4125-b0f7-be67e2b2f101",
   "metadata": {},
   "source": [
    "We all know that brazilians celebrate a lot and they like to gift the people they love. But, what exactly do brazilians usually buy for each occasion? \n",
    "\n",
    "---\n",
    "\n",
    "The main ideia with this notebook is to understand the periods the consumers bought more and which products were more common on each occasion. \n",
    "\n",
    "I will also take a look on which payment methods were more susceptible to have the order approved and also, how much the costumers usually spend for each order."
   ]
  },
  {
   "cell_type": "markdown",
   "id": "d53610bf-1712-46d0-90c4-495e0b86d194",
   "metadata": {},
   "source": [
    "### Libraries"
   ]
  },
  {
   "cell_type": "code",
   "execution_count": 5,
   "id": "0c971c8e-c515-4fe0-9103-5622208508c3",
   "metadata": {},
   "outputs": [],
   "source": [
    "import pandas as pd"
   ]
  },
  {
   "cell_type": "code",
   "execution_count": 103,
   "id": "334a0b9b-007c-4c6e-bb1e-ebbf2e2a5ae9",
   "metadata": {},
   "outputs": [],
   "source": [
    "#importing the datasets\n",
    "df_items = pd.read_csv('datasets/olist_order_items_dataset.csv')\n",
    "df_payments = pd.read_csv('datasets/olist_order_payments_dataset.csv')\n",
    "df_orders = pd.read_csv('datasets/olist_orders_dataset.csv')\n",
    "df_products = pd.read_csv('datasets/olist_products_dataset.csv')"
   ]
  },
  {
   "cell_type": "code",
   "execution_count": 104,
   "id": "710c9573-0eb7-4ac0-8c13-9c65fe911841",
   "metadata": {},
   "outputs": [],
   "source": [
    "#merging the datasets by their keys\n",
    "df_orders = pd.merge(df_orders, df_items, on='order_id')\n",
    "df_orders = pd.merge(df_orders, df_payments, on='order_id')\n",
    "df_orders = pd.merge(df_orders, df_products, on='product_id')"
   ]
  },
  {
   "cell_type": "markdown",
   "id": "3fd81e5f-d4f5-40b3-84cf-c6f3a1572092",
   "metadata": {},
   "source": [
    "Now that we merged all the datasets we need, let's take a look at them! :-)"
   ]
  },
  {
   "cell_type": "code",
   "execution_count": 105,
   "id": "85720af8-6a88-40f0-b499-402cd161a873",
   "metadata": {},
   "outputs": [],
   "source": [
    "columns = ['order_approved_at', 'order_delivered_carrier_date',\n",
    "       'order_delivered_customer_date', 'order_estimated_delivery_date',\n",
    "       'order_item_id', 'shipping_limit_date',\n",
    "       'product_name_lenght', 'product_description_lenght',\n",
    "       'product_photos_qty', 'product_weight_g', 'product_length_cm',\n",
    "       'product_height_cm', 'product_width_cm']"
   ]
  },
  {
   "cell_type": "code",
   "execution_count": 106,
   "id": "e535365b-864d-4ce7-8afb-6887f6d33247",
   "metadata": {},
   "outputs": [],
   "source": [
    "# removing the columns we won't need\n",
    "df_orders.drop(columns=columns, inplace=True)"
   ]
  },
  {
   "cell_type": "code",
   "execution_count": 107,
   "id": "a0b00324-3073-441b-9b64-d29a67ad71ca",
   "metadata": {
    "collapsed": true,
    "jupyter": {
     "outputs_hidden": true
    },
    "tags": []
   },
   "outputs": [
    {
     "name": "stdout",
     "output_type": "stream",
     "text": [
      "<class 'pandas.core.frame.DataFrame'>\n",
      "Int64Index: 117601 entries, 0 to 117600\n",
      "Data columns (total 13 columns):\n",
      " #   Column                    Non-Null Count   Dtype  \n",
      "---  ------                    --------------   -----  \n",
      " 0   order_id                  117601 non-null  object \n",
      " 1   customer_id               117601 non-null  object \n",
      " 2   order_status              117601 non-null  object \n",
      " 3   order_purchase_timestamp  117601 non-null  object \n",
      " 4   product_id                117601 non-null  object \n",
      " 5   seller_id                 117601 non-null  object \n",
      " 6   price                     117601 non-null  float64\n",
      " 7   freight_value             117601 non-null  float64\n",
      " 8   payment_sequential        117601 non-null  int64  \n",
      " 9   payment_type              117601 non-null  object \n",
      " 10  payment_installments      117601 non-null  int64  \n",
      " 11  payment_value             117601 non-null  float64\n",
      " 12  product_category_name     115903 non-null  object \n",
      "dtypes: float64(3), int64(2), object(8)\n",
      "memory usage: 12.6+ MB\n"
     ]
    }
   ],
   "source": [
    "df_orders.info()"
   ]
  },
  {
   "cell_type": "markdown",
   "id": "53b5e038-f496-4f90-87f9-982b8d7a250b",
   "metadata": {},
   "source": [
    "Taking a look at the dataframe, we see that *'product_category_name'* has around 1700 NaN values, before dropping them is important to understand their context."
   ]
  },
  {
   "cell_type": "code",
   "execution_count": 108,
   "id": "8da1bf81-9cb8-4c4c-8dfb-53edf6e749f9",
   "metadata": {
    "collapsed": true,
    "jupyter": {
     "outputs_hidden": true
    },
    "tags": []
   },
   "outputs": [
    {
     "data": {
      "text/plain": [
       "array(['utilidades_domesticas', 'perfumaria', 'automotivo', 'pet_shop',\n",
       "       'papelaria', nan, 'moveis_decoracao', 'moveis_escritorio',\n",
       "       'ferramentas_jardim', 'informatica_acessorios', 'cama_mesa_banho',\n",
       "       'brinquedos', 'construcao_ferramentas_construcao', 'telefonia',\n",
       "       'beleza_saude', 'eletronicos', 'bebes', 'cool_stuff',\n",
       "       'relogios_presentes', 'climatizacao', 'esporte_lazer',\n",
       "       'livros_interesse_geral', 'eletroportateis', 'alimentos',\n",
       "       'malas_acessorios', 'fashion_underwear_e_moda_praia',\n",
       "       'artigos_de_natal', 'fashion_bolsas_e_acessorios',\n",
       "       'instrumentos_musicais', 'construcao_ferramentas_iluminacao',\n",
       "       'livros_tecnicos', 'construcao_ferramentas_jardim',\n",
       "       'eletrodomesticos', 'market_place', 'agro_industria_e_comercio',\n",
       "       'artigos_de_festas', 'casa_conforto', 'cds_dvds_musicais',\n",
       "       'industria_comercio_e_negocios', 'consoles_games', 'moveis_quarto',\n",
       "       'construcao_ferramentas_seguranca', 'telefonia_fixa', 'bebidas',\n",
       "       'moveis_cozinha_area_de_servico_jantar_e_jardim',\n",
       "       'fashion_calcados', 'casa_construcao', 'audio',\n",
       "       'eletrodomesticos_2', 'fashion_roupa_masculina', 'cine_foto',\n",
       "       'moveis_sala', 'artes', 'alimentos_bebidas',\n",
       "       'tablets_impressao_imagem', 'fashion_esporte',\n",
       "       'portateis_cozinha_e_preparadores_de_alimentos', 'la_cuisine',\n",
       "       'flores', 'pcs', 'casa_conforto_2', 'portateis_casa_forno_e_cafe',\n",
       "       'dvds_blu_ray', 'pc_gamer', 'construcao_ferramentas_ferramentas',\n",
       "       'fashion_roupa_feminina', 'moveis_colchao_e_estofado',\n",
       "       'sinalizacao_e_seguranca', 'fraldas_higiene', 'livros_importados',\n",
       "       'fashion_roupa_infanto_juvenil', 'musica', 'artes_e_artesanato',\n",
       "       'seguros_e_servicos'], dtype=object)"
      ]
     },
     "execution_count": 108,
     "metadata": {},
     "output_type": "execute_result"
    }
   ],
   "source": [
    "df_orders['product_category_name'].unique()"
   ]
  },
  {
   "cell_type": "code",
   "execution_count": 109,
   "id": "353df2ff-4e03-4e49-90a3-2aa03430f118",
   "metadata": {},
   "outputs": [],
   "source": [
    "df_nan = df_orders.loc[df_orders['product_category_name'].isnull()]"
   ]
  },
  {
   "cell_type": "code",
   "execution_count": 110,
   "id": "79bfaa2f-4fca-463c-b543-daaa70cc849a",
   "metadata": {
    "collapsed": true,
    "jupyter": {
     "outputs_hidden": true
    },
    "tags": []
   },
   "outputs": [
    {
     "data": {
      "text/plain": [
       "array(['invoiced', 'delivered', 'shipped', 'processing', 'canceled'],\n",
       "      dtype=object)"
      ]
     },
     "execution_count": 110,
     "metadata": {},
     "output_type": "execute_result"
    }
   ],
   "source": [
    "df_nan['order_status'].unique()"
   ]
  },
  {
   "cell_type": "code",
   "execution_count": 111,
   "id": "b834f996-7cc4-4b23-a855-e797332b1336",
   "metadata": {
    "collapsed": true,
    "jupyter": {
     "outputs_hidden": true
    },
    "tags": []
   },
   "outputs": [
    {
     "data": {
      "text/plain": [
       "array(['credit_card', 'boleto', 'voucher', 'debit_card'], dtype=object)"
      ]
     },
     "execution_count": 111,
     "metadata": {},
     "output_type": "execute_result"
    }
   ],
   "source": [
    "df_nan['payment_type'].unique()"
   ]
  },
  {
   "cell_type": "markdown",
   "id": "1cfccfdf-ebef-4332-95f5-10919d613bc6",
   "metadata": {},
   "source": [
    "After taking a look on the NaN values, I decided to drop the columns, since they didn't have a pattern (for example, the products without categories corresponds to those Canceled). "
   ]
  },
  {
   "cell_type": "code",
   "execution_count": 112,
   "id": "7ed7abe4-5901-444b-8ca7-1acda6fd1e6e",
   "metadata": {},
   "outputs": [],
   "source": [
    "# filtering the dataset\n",
    "df_orders = df_orders.loc[~df_orders['product_category_name'].isnull()]\n",
    "df_orders.reset_index(inplace=True)\n",
    "df_orders.drop(columns='index', inplace=True)"
   ]
  },
  {
   "cell_type": "markdown",
   "id": "0e83a0c3-74af-4cc9-9e87-3d14e07a4753",
   "metadata": {},
   "source": [
    "Now that we took care of the NaN values, it's time to take a look on the rest of the columns."
   ]
  },
  {
   "cell_type": "code",
   "execution_count": 113,
   "id": "50db9bda-4aad-4b7e-bdff-b05005dc466a",
   "metadata": {},
   "outputs": [],
   "source": [
    "# converting the 'order_purchase_timestamp' to datetime\n",
    "df_orders['order_purchase_timestamp'] = pd.to_datetime(df_orders['order_purchase_timestamp'])"
   ]
  },
  {
   "cell_type": "code",
   "execution_count": null,
   "id": "bbb07af7-7e3d-4faa-ae57-bb135420620d",
   "metadata": {},
   "outputs": [],
   "source": [
    "# filtering data before 2017\n",
    "df_orders = df_orders.loc[df_orders['order_purchase_timestamp'].dt.year != 2016]"
   ]
  },
  {
   "cell_type": "markdown",
   "id": "e2158dfd-9df2-4ff3-9297-1bbb79a11ca8",
   "metadata": {},
   "source": [
    "Data is clean! Time to explore the dataset!"
   ]
  },
  {
   "cell_type": "markdown",
   "id": "7e476b00-bb4b-40b8-8c69-f78d5e7cc853",
   "metadata": {},
   "source": [
    "### What were the months with the highest order numbers?"
   ]
  },
  {
   "cell_type": "code",
   "execution_count": 136,
   "id": "cee7f1a8-b3c7-4500-b9e4-6928abbd4f9b",
   "metadata": {},
   "outputs": [],
   "source": [
    "# grouping the number of order per month\n",
    "order_group = df_orders.groupby(pd.Grouper(key='order_purchase_timestamp', axis=0, \n",
    "                      freq='M')).count().reset_index()"
   ]
  },
  {
   "cell_type": "code",
   "execution_count": 164,
   "id": "04de9325-47d4-4d8f-9988-e8831adc402b",
   "metadata": {},
   "outputs": [
    {
     "data": {
      "text/html": [
       "<div>\n",
       "<style scoped>\n",
       "    .dataframe tbody tr th:only-of-type {\n",
       "        vertical-align: middle;\n",
       "    }\n",
       "\n",
       "    .dataframe tbody tr th {\n",
       "        vertical-align: top;\n",
       "    }\n",
       "\n",
       "    .dataframe thead th {\n",
       "        text-align: right;\n",
       "    }\n",
       "</style>\n",
       "<table border=\"1\" class=\"dataframe\">\n",
       "  <thead>\n",
       "    <tr style=\"text-align: right;\">\n",
       "      <th></th>\n",
       "      <th>order_purchase_timestamp</th>\n",
       "      <th>order_id</th>\n",
       "    </tr>\n",
       "  </thead>\n",
       "  <tbody>\n",
       "    <tr>\n",
       "      <th>10</th>\n",
       "      <td>2017-11-30</td>\n",
       "      <td>8883</td>\n",
       "    </tr>\n",
       "    <tr>\n",
       "      <th>14</th>\n",
       "      <td>2018-03-31</td>\n",
       "      <td>8406</td>\n",
       "    </tr>\n",
       "    <tr>\n",
       "      <th>12</th>\n",
       "      <td>2018-01-31</td>\n",
       "      <td>8324</td>\n",
       "    </tr>\n",
       "    <tr>\n",
       "      <th>15</th>\n",
       "      <td>2018-04-30</td>\n",
       "      <td>8182</td>\n",
       "    </tr>\n",
       "    <tr>\n",
       "      <th>16</th>\n",
       "      <td>2018-05-31</td>\n",
       "      <td>8168</td>\n",
       "    </tr>\n",
       "    <tr>\n",
       "      <th>13</th>\n",
       "      <td>2018-02-28</td>\n",
       "      <td>7798</td>\n",
       "    </tr>\n",
       "    <tr>\n",
       "      <th>19</th>\n",
       "      <td>2018-08-31</td>\n",
       "      <td>7430</td>\n",
       "    </tr>\n",
       "    <tr>\n",
       "      <th>17</th>\n",
       "      <td>2018-06-30</td>\n",
       "      <td>7366</td>\n",
       "    </tr>\n",
       "    <tr>\n",
       "      <th>18</th>\n",
       "      <td>2018-07-31</td>\n",
       "      <td>7283</td>\n",
       "    </tr>\n",
       "    <tr>\n",
       "      <th>11</th>\n",
       "      <td>2017-12-31</td>\n",
       "      <td>6414</td>\n",
       "    </tr>\n",
       "  </tbody>\n",
       "</table>\n",
       "</div>"
      ],
      "text/plain": [
       "   order_purchase_timestamp  order_id\n",
       "10               2017-11-30      8883\n",
       "14               2018-03-31      8406\n",
       "12               2018-01-31      8324\n",
       "15               2018-04-30      8182\n",
       "16               2018-05-31      8168\n",
       "13               2018-02-28      7798\n",
       "19               2018-08-31      7430\n",
       "17               2018-06-30      7366\n",
       "18               2018-07-31      7283\n",
       "11               2017-12-31      6414"
      ]
     },
     "execution_count": 164,
     "metadata": {},
     "output_type": "execute_result"
    }
   ],
   "source": [
    "order_group[['order_purchase_timestamp', 'order_id']].sort_values(by='order_id', ascending=False).head(10)"
   ]
  },
  {
   "cell_type": "code",
   "execution_count": 137,
   "id": "37f291d2-7f9e-40fc-82d1-ef644a64cffa",
   "metadata": {},
   "outputs": [
    {
     "data": {
      "text/plain": [
       "<AxesSubplot:xlabel='order_purchase_timestamp'>"
      ]
     },
     "execution_count": 137,
     "metadata": {},
     "output_type": "execute_result"
    },
    {
     "data": {
      "image/png": "[encoded data removed]",
      "text/plain": [
       "<Figure size 432x288 with 1 Axes>"
      ]
     },
     "metadata": {
      "needs_background": "light"
     },
     "output_type": "display_data"
    }
   ],
   "source": [
    "order_group.plot(kind='line', x='order_purchase_timestamp', y='order_id')"
   ]
  },
  {
   "cell_type": "code",
   "execution_count": null,
   "id": "74f0d6d7-9ec9-4b41-aba0-5e121d0f79a5",
   "metadata": {},
   "outputs": [],
   "source": [
    "#what are the main categories sold on each period?"
   ]
  },
  {
   "cell_type": "markdown",
   "id": "dfc2ed33-2599-4832-8d7d-f4392bd7fd35",
   "metadata": {},
   "source": [
    "### How many confirmed orders per seller do we have?"
   ]
  },
  {
   "cell_type": "code",
   "execution_count": 169,
   "id": "b87c2cfd-b91c-412e-950c-65abe1a75295",
   "metadata": {},
   "outputs": [],
   "source": [
    "# counting the number of order per seller\n",
    "(\n",
    "    df_orders\n",
    "    .groupby(['seller_id'])[['order_status']]\n",
    "    .count()\n",
    "    .sort_values(by='order_status', ascending=False)\n",
    ").head()"
   ]
  },
  {
   "cell_type": "code",
   "execution_count": 172,
   "id": "91e5d783-d2e3-41ca-b608-5c7cb7203d94",
   "metadata": {},
   "outputs": [],
   "source": [
    "#counting the number of confirmed orders per seller\n",
    "df_orders['delivered_orders'] = (\n",
    "    df_orders.loc[df_orders['order_status'] == 'delivered']\n",
    "    .groupby(['seller_id'])['seller_id']\n",
    "    .count()\n",
    "    .sort_values(ascending=False)\n",
    ").to_frame()"
   ]
  },
  {
   "cell_type": "code",
   "execution_count": 174,
   "id": "7011e053-a672-4270-99dd-37a809555949",
   "metadata": {},
   "outputs": [
    {
     "data": {
      "text/plain": [
       "0        NaN\n",
       "1        NaN\n",
       "2        NaN\n",
       "3        NaN\n",
       "4        NaN\n",
       "          ..\n",
       "115898   NaN\n",
       "115899   NaN\n",
       "115900   NaN\n",
       "115901   NaN\n",
       "115902   NaN\n",
       "Name: total_orders, Length: 115520, dtype: float64"
      ]
     },
     "execution_count": 174,
     "metadata": {},
     "output_type": "execute_result"
    }
   ],
   "source": [
    "# calculate the KPI's for each seller\n",
    "# Approval's rate\n",
    "df_orders['total_orders']"
   ]
  },
  {
   "cell_type": "code",
   "execution_count": null,
   "id": "60d3aabf-da65-4ec2-94fe-d08b36671b30",
   "metadata": {},
   "outputs": [],
   "source": [
    "#NLP for the reviews -> how can I use that?"
   ]
  }
 ],
 "metadata": {
  "kernelspec": {
   "display_name": "Python 3",
   "language": "python",
   "name": "python3"
  },
  "language_info": {
   "codemirror_mode": {
    "name": "ipython",
    "version": 3
   },
   "file_extension": ".py",
   "mimetype": "text/x-python",
   "name": "python",
   "nbconvert_exporter": "python",
   "pygments_lexer": "ipython3",
   "version": "3.8.8"
  }
 },
 "nbformat": 4,
 "nbformat_minor": 5
}
